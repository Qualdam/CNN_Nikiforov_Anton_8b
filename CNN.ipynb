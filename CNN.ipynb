{
 "cells": [
  {
   "cell_type": "code",
   "execution_count": 1,
   "id": "handmade-thesaurus",
   "metadata": {},
   "outputs": [],
   "source": [
    "from tensorflow import keras\n",
    "import time\n",
    "from tensorflow.keras import layers\n",
    "from tensorflow.keras import Sequential\n",
    "from tensorflow.keras.layers import Conv2D, MaxPooling2D, Flatten, Dense, Dropout, Activation, BatchNormalization, AveragePooling2D\n",
    "from tensorflow.keras.optimizers import SGD, RMSprop, Adam\n",
    "import tensorflow as tf\n",
    "import logging\n",
    "import numpy as np\n"
   ]
  },
  {
   "cell_type": "code",
   "execution_count": 2,
   "id": "moderate-eleven",
   "metadata": {},
   "outputs": [],
   "source": [
    "def make_cnn():\n",
    "   img_size = 28 # размер картинки\n",
    "   num_channels = 1  # Для черно-белых изображений\n",
    "   output = 10  # количество выходных нейронов\n",
    "   neural_network = Sequential() # Создание нейросети\n",
    "    \n",
    "    # добавление сверточных слоев\n",
    "    \n",
    "   neural_network.add(Conv2D(filters=32, kernel_size=(3,3), activation='relu',\n",
    "            padding='same', \n",
    "input_shape=(img_size, img_size, num_channels)))\n",
    "   neural_network.add(MaxPooling2D(pool_size=(2, 2)))\n",
    "   neural_network.add(Conv2D(filters=64, kernel_size=(3, 3), activation='relu',\n",
    "            padding='same'))\n",
    "   neural_network.add(MaxPooling2D(pool_size=(2, 2)))\n",
    "   neural_network.add(Conv2D(filters=64, kernel_size=(3, 3), activation='relu',\n",
    "            padding='same'))\n",
    "   neural_network.add(MaxPooling2D(pool_size=(2, 2)))\n",
    "   neural_network.add(Flatten())\n",
    "\n",
    "   # Добавление обычного слоя нейронов\n",
    "   neural_network.add(Dense(128, activation='relu'))\n",
    "   # Добавление выходного слоя\n",
    "   neural_network.add(Dense(output, activation='softmax'))\n",
    "   neural_network.compile(optimizer=Adam(), loss='categorical_crossentropy',\n",
    "            metrics=['accuracy'])\n",
    "    \n",
    "   return neural_network"
   ]
  },
  {
   "cell_type": "code",
   "execution_count": 3,
   "id": "continental-telephone",
   "metadata": {},
   "outputs": [],
   "source": [
    "def train_cnn(neural_network):\n",
    "   (train_digits, train_labels), (test_digits, test_labels) = keras.datasets.mnist.load_data() \n",
    "\n",
    "   img_size = 28 # размер картинки\n",
    "   num_channels = 1  # Для черно-белых изображений\n",
    "\n",
    "   # преобразование полученного изображение в 28*28\n",
    "   train_data = np.reshape(train_digits, (train_digits.shape[0],img_size, img_size, num_channels))\n",
    "   train_data = train_data.astype('float32') / 255.0\n",
    "   output = 10 # Выходные слои \n",
    "   train_labels_cat = keras.utils.to_categorical(train_labels, output)\n",
    "\n",
    "   # преобразование размера и цвета\n",
    "   val_data = np.reshape(test_digits, (test_digits.shape[0], img_size, img_size, num_channels))\n",
    "   val_data = val_data.astype('float32') / 255.0\n",
    "   # encode the labels - we have 10 output classes\n",
    "   val_labels_cat = keras.utils.to_categorical(test_labels, output)\n",
    "\n",
    "   print(\"Обучение нейросети...\")\n",
    "   time.sleep(0.5)\n",
    "   t_start = time.time() # начало отчета\n",
    "\n",
    "   # Обучение нейросети\n",
    "   neural_network.fit(train_data, train_labels_cat, epochs=8, batch_size=64,\n",
    "        validation_data=(val_data, val_labels_cat))\n",
    "\n",
    "   print(\"Выполнено за:\", time.time() - t_start) # \n",
    "\n",
    "   return neural_network"
   ]
  },
  {
   "cell_type": "code",
   "execution_count": null,
   "id": "disabled-compact",
   "metadata": {},
   "outputs": [],
   "source": [
    "model = make_cnn()\n",
    "train_cnn(model)\n",
    "model.save('cnn_digits.h5')"
   ]
  },
  {
   "cell_type": "code",
   "execution_count": null,
   "id": "viral-cannon",
   "metadata": {},
   "outputs": [],
   "source": [
    "def cnn_digits_predict(model, image_file): #прогноз нейростеи\n",
    "   img_size = 28 # размер картинки\n",
    "   img = keras.preprocessing.image.load_img(image_file, \n",
    "target_size=(img_size, img_size), color_mode='grayscale') # получение картинки\n",
    "   img_arr = np.expand_dims(img, axis=0)\n",
    "   img_arr = 1 - img_arr/255.0\n",
    "   img_arr = img_arr.reshape((1, 28, 28, 1))\n",
    "\n",
    "   result = model.predict_classes([img_arr]) # результат работы\n",
    "   return result[0] # возврат предсказываемого значения"
   ]
  },
  {
   "cell_type": "code",
   "execution_count": null,
   "id": "specialized-majority",
   "metadata": {},
   "outputs": [],
   "source": [
    "from tkinter import Tk     #Для интерфейса\n",
    "from tkinter.filedialog import askopenfilename #Для запроса файла у пользователя\n",
    "from PIL import Image #Для изображений\n",
    "tk = Tk()\n",
    "tk.withdraw() # для запуска библиотеки tkinter\n",
    "file = askopenfilename() # для открытия файла\n",
    "\n",
    "model = tf.keras.models.load_model('cnn_digits.h5') #загрузка сохраненной модели нейросети\n",
    "print(cnn_digits_predict(model, file)) #вывод результата прогноза нейросети\n"
   ]
  }
 ],
 "metadata": {
  "kernelspec": {
   "display_name": "Python 3",
   "language": "python",
   "name": "python3"
  },
  "language_info": {
   "codemirror_mode": {
    "name": "ipython",
    "version": 3
   },
   "file_extension": ".py",
   "mimetype": "text/x-python",
   "name": "python",
   "nbconvert_exporter": "python",
   "pygments_lexer": "ipython3",
   "version": "3.8.5"
  },
  "toc-autonumbering": true,
  "toc-showcode": true,
  "toc-showmarkdowntxt": false
 },
 "nbformat": 4,
 "nbformat_minor": 5
}
